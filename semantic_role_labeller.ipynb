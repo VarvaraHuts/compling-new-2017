{
 "cells": [
  {
   "cell_type": "markdown",
   "metadata": {},
   "source": [
    "Features: lemma, pos, case, voice, verb form, head, deprel."
   ]
  },
  {
   "cell_type": "code",
   "execution_count": 1,
   "metadata": {
    "collapsed": true
   },
   "outputs": [],
   "source": [
    "from conllu.parser import parse\n",
    "from collections import OrderedDict\n",
    "import pandas as pd\n",
    "from sklearn import preprocessing\n",
    "from sklearn.tree import DecisionTreeClassifier"
   ]
  },
  {
   "cell_type": "code",
   "execution_count": 2,
   "metadata": {
    "collapsed": true
   },
   "outputs": [],
   "source": [
    "s = open(\"C:/Users/1/Desktop/train.txt\", \"r\", encoding=\"utf-8\")\n",
    "z = open(\"C:/Users/1/Desktop/test.txt\", \"r\", encoding=\"utf-8\")\n",
    "s = s.read()\n",
    "z = z.read()\n",
    "train = parse(s)\n",
    "test = parse(z)"
   ]
  },
  {
   "cell_type": "code",
   "execution_count": 3,
   "metadata": {},
   "outputs": [
    {
     "data": {
      "text/plain": [
       "OrderedDict([('id', 1),\n",
       "             ('form', 'Kävelyreitti'),\n",
       "             ('lemma', 'kävely#reitti'),\n",
       "             ('upostag', 'NOUN'),\n",
       "             ('xpostag', 'N'),\n",
       "             ('feats', OrderedDict([('Case', 'Nom'), ('Number', 'Sing')])),\n",
       "             ('head', 0),\n",
       "             ('deprel', 'root'),\n",
       "             ('deps', None),\n",
       "             ('misc', None)])"
      ]
     },
     "execution_count": 3,
     "metadata": {},
     "output_type": "execute_result"
    }
   ],
   "source": [
    "train[0][0]"
   ]
  },
  {
   "cell_type": "code",
   "execution_count": 4,
   "metadata": {
    "collapsed": true
   },
   "outputs": [],
   "source": [
    "def get_feature(dic, col_name, array):\n",
    "    for item in dic.items():\n",
    "        if item[0] == col_name:\n",
    "            if item[1] == None:\n",
    "                return array.append(\"No\")\n",
    "            else:\n",
    "                return array.append(item[1])"
   ]
  },
  {
   "cell_type": "code",
   "execution_count": 5,
   "metadata": {
    "collapsed": true
   },
   "outputs": [],
   "source": [
    "def get_feature_from_feats(dic, feat_name, array):\n",
    "    for item in dic.items():\n",
    "        if item[0] == \"feats\":\n",
    "            if item[1] == None:\n",
    "                return array.append(\"No\")\n",
    "            else:\n",
    "                dic_feats = dict(item[1])\n",
    "                for feat in dic_feats.items():\n",
    "                    if feat[0] == feat_name:\n",
    "                        return array.append(feat[1])\n",
    "                    else:\n",
    "                        return array.append(\"No\")"
   ]
  },
  {
   "cell_type": "code",
   "execution_count": 6,
   "metadata": {
    "collapsed": true
   },
   "outputs": [],
   "source": [
    "def get_matrix_and_deprels(data):\n",
    "    matrix = []\n",
    "    deprels = []\n",
    "    \n",
    "    for i in range(len(data)):\n",
    "        for x in range(len(data[i])):\n",
    "            dic = dict(data[i][x])\n",
    "        \n",
    "            arr = []\n",
    "            lemma = get_feature(dic, \"lemma\", arr)\n",
    "            upostag = get_feature(dic, \"upostag\", arr)\n",
    "            case = get_feature_from_feats(dic, \"Case\", arr)\n",
    "            voice = get_feature_from_feats(dic, \"Voice\", arr)\n",
    "            verb_form = get_feature_from_feats(dic, \"VerbForm\", arr)\n",
    "            head = get_feature(dic, \"head\", arr)\n",
    "            deprel = get_feature(dic, \"deprel\", arr)\n",
    "            matrix.append(arr)\n",
    "            \n",
    "            arr2 = []\n",
    "            deps = get_feature(dic, \"deps\", arr2)\n",
    "            deprels.append(arr2)\n",
    "                        \n",
    "    return matrix, deprels"
   ]
  },
  {
   "cell_type": "code",
   "execution_count": 7,
   "metadata": {
    "collapsed": true
   },
   "outputs": [],
   "source": [
    "matrix_train = get_matrix_and_deprels(train)[0]\n",
    "matrix_test = get_matrix_and_deprels(test)[0]\n",
    "deprels_train = get_matrix_and_deprels(train)[1]\n",
    "deprels_test = get_matrix_and_deprels(test)[1]"
   ]
  },
  {
   "cell_type": "code",
   "execution_count": 8,
   "metadata": {},
   "outputs": [
    {
     "data": {
      "text/plain": [
       "['kävely#reitti', 'NOUN', 'Nom', 'No', 'No', 0, 'root']"
      ]
     },
     "execution_count": 8,
     "metadata": {},
     "output_type": "execute_result"
    }
   ],
   "source": [
    "matrix_train[0]"
   ]
  },
  {
   "cell_type": "code",
   "execution_count": 9,
   "metadata": {
    "collapsed": true
   },
   "outputs": [],
   "source": [
    "le = preprocessing.LabelEncoder()\n",
    "\n",
    "matrix_train_to_df = pd.DataFrame(matrix_train)\n",
    "matrix_train_to_df_new = matrix_train_to_df.apply(le.fit_transform)\n",
    "deprels_train_to_df = pd.DataFrame(deprels_train)\n",
    "deprels_train_to_df_new = deprels_train_to_df.apply(le.fit_transform)\n",
    "matrix_test_to_df = pd.DataFrame(matrix_test)\n",
    "matrix_test_to_df_new = matrix_test_to_df.apply(le.fit_transform)\n",
    "deprels_test_to_df = pd.DataFrame(deprels_test)\n",
    "deprels_test_to_df_new = deprels_test_to_df.apply(le.fit_transform)"
   ]
  },
  {
   "cell_type": "code",
   "execution_count": 10,
   "metadata": {
    "collapsed": true
   },
   "outputs": [],
   "source": [
    "clf = DecisionTreeClassifier()\n",
    "clf = clf.fit(matrix_train_to_df_new, deprels_train_to_df_new)\n",
    "predictions = clf.predict(matrix_test_to_df_new)"
   ]
  }
 ],
 "metadata": {
  "kernelspec": {
   "display_name": "Python 3",
   "language": "python",
   "name": "python3"
  },
  "language_info": {
   "codemirror_mode": {
    "name": "ipython",
    "version": 3
   },
   "file_extension": ".py",
   "mimetype": "text/x-python",
   "name": "python",
   "nbconvert_exporter": "python",
   "pygments_lexer": "ipython3",
   "version": "3.6.1"
  }
 },
 "nbformat": 4,
 "nbformat_minor": 2
}
