{
 "cells": [
  {
   "cell_type": "markdown",
   "metadata": {},
   "source": [
    "Сравнение Tfidf и Rake на небольшом корпусе газетных текстов.\n",
    "\n"
   ]
  },
  {
   "cell_type": "code",
   "execution_count": 1,
   "metadata": {
    "collapsed": true
   },
   "outputs": [],
   "source": [
    "from sklearn.feature_extraction.text import TfidfVectorizer"
   ]
  },
  {
   "cell_type": "code",
   "execution_count": 2,
   "metadata": {},
   "outputs": [],
   "source": [
    "import os\n",
    "names_files = []\n",
    "for filenames in os.walk(\"C:/Users/1/Desktop/lenta\"):\n",
    "    for file in filenames[2]:\n",
    "        names_files.append(file)"
   ]
  },
  {
   "cell_type": "code",
   "execution_count": 3,
   "metadata": {
    "collapsed": true
   },
   "outputs": [],
   "source": [
    "vectorizer = TfidfVectorizer(ngram_range=(1,3), min_df=1)"
   ]
  },
  {
   "cell_type": "code",
   "execution_count": 4,
   "metadata": {},
   "outputs": [],
   "source": [
    "corpus = []\n",
    "for name_file in names_files:\n",
    "    name = \"C:/Users/1/Desktop/lenta/\" + name_file\n",
    "    text = open(name, \"r\", encoding=\"utf-8\")\n",
    "    text = text.read()\n",
    "    corpus.append(text)"
   ]
  },
  {
   "cell_type": "code",
   "execution_count": 5,
   "metadata": {},
   "outputs": [],
   "source": [
    "X = vectorizer.fit_transform(corpus)"
   ]
  },
  {
   "cell_type": "code",
   "execution_count": 6,
   "metadata": {
    "collapsed": true
   },
   "outputs": [],
   "source": [
    "doc = 0\n",
    "feature_index = X[doc,:].nonzero()[1]\n",
    "tfidf_scores = zip(feature_index, [X[doc, x] for x in feature_index])"
   ]
  },
  {
   "cell_type": "code",
   "execution_count": 7,
   "metadata": {},
   "outputs": [],
   "source": [
    "feature_names = vectorizer.get_feature_names()\n",
    "arr = []\n",
    "for w, s in [(feature_names[i], s) for (i, s) in tfidf_scores]:\n",
    "    arr.append((w, s))"
   ]
  },
  {
   "cell_type": "code",
   "execution_count": 8,
   "metadata": {},
   "outputs": [],
   "source": [
    "import numpy as np\n",
    "dic = {}\n",
    "for item in arr:\n",
    "    dic[item[0]] = item[1].item()"
   ]
  },
  {
   "cell_type": "code",
   "execution_count": 9,
   "metadata": {
    "collapsed": true
   },
   "outputs": [],
   "source": [
    "import collections\n",
    "from collections import OrderedDict"
   ]
  },
  {
   "cell_type": "code",
   "execution_count": 10,
   "metadata": {},
   "outputs": [
    {
     "name": "stdout",
     "output_type": "stream",
     "text": [
      "Tfidf\n",
      "\n"
     ]
    },
    {
     "data": {
      "text/plain": [
       "[('консоли', 0.06042433210490486),\n",
       " ('приставки', 0.057695842551056704),\n",
       " ('1990', 0.05717312183710587),\n",
       " ('ролике', 0.05215558570264272),\n",
       " ('batman', 0.048201337571927794),\n",
       " ('arkham', 0.048201337571927794),\n",
       " ('sega', 0.048201337571927794),\n",
       " ('менеджер среднего', 0.048201337571927794),\n",
       " ('batman arkham', 0.048201337571927794),\n",
       " ('arkham knight', 0.048201337571927794),\n",
       " ('возможность играть', 0.048201337571927794),\n",
       " ('менеджер среднего звена', 0.048201337571927794),\n",
       " ('batman arkham knight', 0.048201337571927794),\n",
       " ('knight', 0.0458853395606683),\n",
       " ('геймера', 0.0458853395606683)]"
      ]
     },
     "execution_count": 10,
     "metadata": {},
     "output_type": "execute_result"
    }
   ],
   "source": [
    "dic_sorted = OrderedDict(sorted(dic.items(), key=lambda kv: kv[1], reverse=True))\n",
    "print (\"Tfidf\" + \"\\n\")\n",
    "collections.Counter(dic_sorted).most_common(15)"
   ]
  },
  {
   "cell_type": "code",
   "execution_count": 11,
   "metadata": {
    "collapsed": true
   },
   "outputs": [],
   "source": [
    "import RAKE"
   ]
  },
  {
   "cell_type": "code",
   "execution_count": 12,
   "metadata": {
    "collapsed": true
   },
   "outputs": [],
   "source": [
    "text = open(\"C:/Users/1/Desktop/lenta/10 самых смешных японских игровых трейлеров.txt\", \"r\", encoding=\"utf-8\")\n",
    "text = text.read()"
   ]
  },
  {
   "cell_type": "code",
   "execution_count": 13,
   "metadata": {
    "collapsed": true
   },
   "outputs": [],
   "source": [
    "stop_words = ['а', 'бы', 'в', 'во', 'вот', 'для', 'до', 'если', 'же', 'за', 'и', 'из', 'или', 'к', 'ко', 'на', 'над', 'но', 'о', 'об', 'от', 'по', 'при', 'с', 'то', 'у', 'чтобы', 'да', 'нет', 'не', 'ни', '—', 'это', 'много', 'немного', 'мало', 'немало', 'больше', 'меньше', 'я', 'мы', 'ты', 'вы', 'он', 'она', 'оно', 'они', 'можно', 'мочь', 'нельзя', 'надо', 'нужно', 'иметь', 'быть', 'который', 'какой', 'как', 'что', 'где', 'когда', 'потому', 'только', 'также', 'тоже']"
   ]
  },
  {
   "cell_type": "code",
   "execution_count": 14,
   "metadata": {
    "collapsed": true
   },
   "outputs": [],
   "source": [
    "Rake = RAKE.Rake(stop_words)"
   ]
  },
  {
   "cell_type": "code",
   "execution_count": 15,
   "metadata": {},
   "outputs": [
    {
     "name": "stdout",
     "output_type": "stream",
     "text": [
      "Rake\n",
      "\n"
     ]
    },
    {
     "data": {
      "text/plain": [
       "[('цикла the legend of zelda', 15.333333333333334),\n",
       " ('стелс-экшне metal gear solid 3', 13.75),\n",
       " ('шутере call of duty', 9.333333333333334),\n",
       " ('call of duty', 9.333333333333334),\n",
       " ('героя экшна devil may cry', 9.0),\n",
       " ('ролике платформера-паззла mario vs', 7.75),\n",
       " ('arkham knight', 4.0),\n",
       " ('arkham knight показывает', 4.0),\n",
       " ('особенностей переиздания слэшера ninja gaiden 2', 4.0),\n",
       " ('повысить продажи вышедшей тогда приставки sega saturn', 4.0),\n",
       " ('segata sanshiro', 4.0),\n",
       " ('hiroshi fujioka', 4.0),\n",
       " ('donkey kong', 4.0),\n",
       " ('портативной консоли game boy симулятор «формулы 1» вчетвером', 4.0),\n",
       " ('южнокорейская бесплатная многопользовательская ролевая игра maple story пришла',\n",
       "  4.0)]"
      ]
     },
     "execution_count": 15,
     "metadata": {},
     "output_type": "execute_result"
    }
   ],
   "source": [
    "dic = Rake.run(text)\n",
    "dic_new = sorted(dic, key=lambda kv: kv[1], reverse=True)\n",
    "print(\"Rake\" + \"\\n\")\n",
    "dic_new[:15]"
   ]
  },
  {
   "cell_type": "markdown",
   "metadata": {},
   "source": [
    "Для улучшения работы Tfidf можно попробовать удалить стоп-слова, привести остальные к начальной форме, добавить функции, которые будут выбрасывать из словаря числа и слова на латинице (если таковые не могут быть ключевыми). Rake, несмотря на удаление стоп-слов, оказался менее релевантным: кажется, что стоит рассматривать цепочки меньшей длины."
   ]
  }
 ],
 "metadata": {
  "kernelspec": {
   "display_name": "Python 3",
   "language": "python",
   "name": "python3"
  },
  "language_info": {
   "codemirror_mode": {
    "name": "ipython",
    "version": 3
   },
   "file_extension": ".py",
   "mimetype": "text/x-python",
   "name": "python",
   "nbconvert_exporter": "python",
   "pygments_lexer": "ipython3",
   "version": "3.6.1"
  }
 },
 "nbformat": 4,
 "nbformat_minor": 2
}
