{
 "cells": [
  {
   "cell_type": "code",
   "execution_count": 1,
   "metadata": {
    "collapsed": true
   },
   "outputs": [],
   "source": [
    "import string\n",
    "import pymorphy2\n",
    "import math\n",
    "\n",
    "translator = str.maketrans('', '', string.punctuation)\n",
    "morph = pymorphy2.MorphAnalyzer()"
   ]
  },
  {
   "cell_type": "code",
   "execution_count": 2,
   "metadata": {
    "collapsed": true
   },
   "outputs": [],
   "source": [
    "s = open(\"C:/Users/1/Desktop/corp.txt\", \"r\", encoding=\"utf-8\")\n",
    "s = s.read()"
   ]
  },
  {
   "cell_type": "code",
   "execution_count": 3,
   "metadata": {
    "collapsed": true
   },
   "outputs": [],
   "source": [
    "stop_words = ['а', 'бы', 'в', 'во', 'вот', 'для', 'до', 'если', 'же', 'за', 'и', 'из', 'или', 'к', 'ко', 'на', 'над', 'но', 'о', 'об', 'от', 'по', 'при', 'с', 'то', 'у', 'чтобы', 'да', 'нет', 'не', 'ни', '—', 'это', 'много', 'немного', 'мало', 'немало', 'больше', 'меньше', 'я', 'мы', 'ты', 'вы', 'он', 'она', 'оно', 'они', 'можно', 'мочь', 'нельзя', 'надо', 'нужно', 'иметь', 'быть', 'который', 'какой', 'как', 'что', 'где', 'когда', 'потому', 'только', 'также', 'тоже']"
   ]
  },
  {
   "cell_type": "code",
   "execution_count": 4,
   "metadata": {
    "collapsed": true
   },
   "outputs": [],
   "source": [
    "words = s.split()\n",
    "\n",
    "words_new = []\n",
    "\n",
    "for word in words:\n",
    "    word = word.translate(translator)\n",
    "    word = word.lower()\n",
    "    words_new.append(word)\n",
    "words = words_new"
   ]
  },
  {
   "cell_type": "code",
   "execution_count": 5,
   "metadata": {},
   "outputs": [],
   "source": [
    "dic_freq = {}\n",
    "\n",
    "def add_to_dic(word, dic_freq):\n",
    "    if word not in dic_freq:\n",
    "        dic_freq[word] = 1\n",
    "    else:\n",
    "        dic_freq[word] +=1\n",
    "    return dic_freq\n",
    "\n",
    "for i in range (len(words)-1):\n",
    "    if words[i] == \"google\":\n",
    "        words[i+1] = morph.parse(words[i+1])[0].normal_form\n",
    "        words[i-1] = morph.parse(words[i-1])[0].normal_form\n",
    "        if words[i+1] not in stop_words and words[i+1]:\n",
    "            bigr1 = words[i] + \" \" + words[i+1]\n",
    "            add_to_dic(bigr1, dic_freq)      \n",
    "        if words[i-1] not in stop_words:\n",
    "            bigr2 = words[i-1] + \" \" + words[i]\n",
    "            add_to_dic(bigr2, dic_freq)"
   ]
  },
  {
   "cell_type": "code",
   "execution_count": 6,
   "metadata": {
    "collapsed": true
   },
   "outputs": [],
   "source": [
    "f = open(\"C:/Users/1/Desktop/google_ngrams.tsv\", \"a\", encoding=\"utf-8\")"
   ]
  },
  {
   "cell_type": "code",
   "execution_count": 7,
   "metadata": {},
   "outputs": [],
   "source": [
    "dic_pmi = {}\n",
    "\n",
    "num_w = len(words)    \n",
    "\n",
    "for key, value in dic_freq.items():\n",
    "    if value > 30:\n",
    "        key_words = key.split()\n",
    "        count1 = words.count(key_words[0])\n",
    "        count2 = words.count(key_words[1])\n",
    "        p_w1 = count1 / float(num_w)\n",
    "        p_w2 = count2 / float(num_w)\n",
    "        p_w1_w2 = value / float(num_w -1)\n",
    "        pmi = math.log(p_w1_w2 /float(p_w1 * p_w2))\n",
    "        dic_pmi[key] = pmi\n",
    "        f.write(key_words[0] + \"\\t\" + key_words[1] + \"\\t\" + str(count1) + \"\\t\" + str(count2) + \"\\t\" + str(value) + \"\\t\" + str(pmi) + \"\\n\")\n",
    "f.close()"
   ]
  },
  {
   "cell_type": "code",
   "execution_count": 8,
   "metadata": {},
   "outputs": [
    {
     "name": "stdout",
     "output_type": "stream",
     "text": [
      "компания google 292\n",
      "google chrome 201\n",
      "google maps 120\n",
      "google play 117\n",
      "год google 110\n",
      "система google 95\n",
      "google android 84\n",
      "карта google 83\n",
      "сервис google 80\n",
      "google earth 74\n",
      "\n",
      "\n",
      "google talk 5.434883604019757\n",
      "google объявить 5.414864737129265\n",
      "google play 5.373460791393351\n",
      "google io 5.305154497344973\n",
      "google earth 5.28940086167455\n",
      "google maps 5.272364674521982\n",
      "google chrome 5.246580557366268\n",
      "google wave 5.183569175738851\n",
      "карта google 5.150573617468059\n",
      "google code 4.94100753856754\n"
     ]
    }
   ],
   "source": [
    "def top_ten(dic):\n",
    "    dic_sorted_keys = sorted(dic, key=dic.get, reverse=True)[:10]\n",
    "    for key in dic_sorted_keys:\n",
    "        print(key, dic[key])\n",
    "    \n",
    "top_ten(dic_freq)\n",
    "print (\"\\n\")\n",
    "top_ten(dic_pmi)"
   ]
  }
 ],
 "metadata": {
  "kernelspec": {
   "display_name": "Python 3",
   "language": "python",
   "name": "python3"
  },
  "language_info": {
   "codemirror_mode": {
    "name": "ipython",
    "version": 3
   },
   "file_extension": ".py",
   "mimetype": "text/x-python",
   "name": "python",
   "nbconvert_exporter": "python",
   "pygments_lexer": "ipython3",
   "version": "3.6.1"
  }
 },
 "nbformat": 4,
 "nbformat_minor": 1
}
