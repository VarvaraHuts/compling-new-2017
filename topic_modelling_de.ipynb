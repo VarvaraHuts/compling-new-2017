{
 "cells": [
  {
   "cell_type": "code",
   "execution_count": 1,
   "metadata": {},
   "outputs": [
    {
     "name": "stderr",
     "output_type": "stream",
     "text": [
      "C:\\ProgramData\\Anaconda3\\lib\\site-packages\\gensim\\utils.py:862: UserWarning: detected Windows; aliasing chunkize to chunkize_serial\n",
      "  warnings.warn(\"detected Windows; aliasing chunkize to chunkize_serial\")\n"
     ]
    }
   ],
   "source": [
    "from sklearn.feature_extraction.text import TfidfVectorizer, CountVectorizer\n",
    "from sklearn.decomposition import NMF\n",
    "from sklearn.decomposition import LatentDirichletAllocation\n",
    "import numpy as np\n",
    "from textblob_de import TextBlobDE as TextBlob\n",
    "import gensim\n",
    "from gensim import corpora\n",
    "from pprint import pprint"
   ]
  },
  {
   "cell_type": "code",
   "execution_count": 2,
   "metadata": {
    "collapsed": true
   },
   "outputs": [],
   "source": [
    "def display_topics(model, feature_names, no_top_words):\n",
    "    for topic_idx, topic in enumerate(model.components_):\n",
    "        print(\"Topic {}:\".format(topic_idx))\n",
    "        print(\", \".join([feature_names[i]\n",
    "                        for i in topic.argsort()[:-no_top_words - 1:-1]]))"
   ]
  },
  {
   "cell_type": "code",
   "execution_count": 3,
   "metadata": {
    "collapsed": true
   },
   "outputs": [],
   "source": [
    "s = open(\"C:/Users/1/Desktop/de.txt\", \"r\", encoding=\"utf-8\")\n",
    "s = s.read()\n",
    "if \"\\xad\" in s:\n",
    "    s = s.replace(\"\\xad\", \"\")\n",
    "documents = s.split(\"\\n\\n \\n\\n\")"
   ]
  },
  {
   "cell_type": "code",
   "execution_count": 4,
   "metadata": {},
   "outputs": [
    {
     "name": "stdout",
     "output_type": "stream",
     "text": [
      "Text collection size and median length in symbols:\n",
      "1439 8027.0\n"
     ]
    }
   ],
   "source": [
    "print(\"Text collection size and median length in symbols:\")\n",
    "print(len(documents), np.median([len(d) for d in documents]))"
   ]
  },
  {
   "cell_type": "code",
   "execution_count": 5,
   "metadata": {},
   "outputs": [],
   "source": [
    "from nltk.corpus import stopwords\n",
    "stop_words = stopwords.words(\"german\")"
   ]
  },
  {
   "cell_type": "code",
   "execution_count": 7,
   "metadata": {
    "collapsed": true
   },
   "outputs": [],
   "source": [
    "stop_words.append(\"sollen\")\n",
    "stop_words.append(\"müssen\")\n",
    "stop_words.append(\"dass\")"
   ]
  },
  {
   "cell_type": "code",
   "execution_count": 8,
   "metadata": {},
   "outputs": [],
   "source": [
    "documents_preprocessed = []\n",
    "for doc in documents:\n",
    "    blob = TextBlob(doc)\n",
    "    words_lem = blob.words.lemmatize()\n",
    "    doc_new = []\n",
    "    for word in words_lem:\n",
    "        word = word.lower()\n",
    "        if word not in stop_words:\n",
    "            doc_new.append(word)\n",
    "    doc_new = \" \".join(doc_new)\n",
    "    documents_preprocessed.append(doc_new)"
   ]
  },
  {
   "cell_type": "code",
   "execution_count": 9,
   "metadata": {},
   "outputs": [
    {
     "data": {
      "text/plain": [
       "'frau präsidentin gut wort danke herz namen ganz familie herr bundespräsident erst gedanke gelten heuen übernehmen aufgabe schw erfüllend zugleich bewährt erfahrung nüchternem sinn witz herz mut ans werk gehen all zugute kommen mögen amtes kraft weisheit walten mögen glück segen geleiten herzlich wünsch gelten weniger frau ja miterlebt bedeuten frau präsidenten später vielleicht mann bundespräsidentin verfassung sozusagen gar vorsehen dennoch inner verpflichtung amt empfindet bereitwillig tragen weniger spektakulär dafür zuweilen entsagungsreicher ganz gewiss genauso verantwortungsvoll hilfsbereit gegenüber all hoffnungen zuletzt setzen niemand lande helfen wussen frau dafüren tief dank schulde gar genügend abtragen mögen verehrte frau herzog vertrauens versichern manne entgegenbringen beim wechsel stafette schaut zurück voraus zuvor mögen dank unvergesslich fülle dichte menschlich zuwendung abstatten gedenke quelle trinken sagte alt china quelle amtes menschen denen begegnen wähler politiker inland ausländer experten laien arbeitslose beschäftigte obdachlose behauste männer frauen kinder nah fern mahnen ermutigen vertrauen schenken kritik üben sorge freude geteilt gehen ganz direkt lernen worauf wirklich ankommt amtlich einsamkeit gar aufkommen gross glück bald fünf jahre vergang seit mauer fallen epochales ereignis weit deutschland hinaus grösst persönlich erlebnis wer immer berlin leben stets empfinden mauer bestand geschichte plan erbauer trennen wesen willen menschen unaufhörlich überwindung mahnte einheit gewusst fall erleben 11 november 1989 allein potsdam platz ostberliner kontrollbaracke zugehen oberstleutnant national volksarmee kommen entgegen korrekte ehrenbezeugung sagen herr bundespräsident melde besonder vorkommnisse überwältigend damals november 1989 gehen tief gefühl befreiung welle freude deutsch ganz welt tag vergessen deutschland europa miteinander unterwegs beispiel geschichte vereinigung friede all beteiligen mächten nachbar erreichen inner einheit stützen gut grund artikel 23 verfassung osten weniger weste leitlinien grundgesetzes getrost aufhören beitrittsgebiet sprechen begriff verfassungsrechtlich korrekt herr bundespräsident bestätigen menschlich historisch vorgang verbund bundesdeutsch beigetretenen verschieden lebenserfahrungen wachsen gemeinsam beid teile neu inner einheit hinein kommen vorwärts schaffen dabei helfen vorzüge offen gesellschaft fest regeln demokratie effizienz marktwirtschaft bieten besen bekannten entdeckungswege lösung immer neu probleme vernünftig befähigen konflikte gewaltlos bestehen herzerwärmend weltfremde anmerkung erinnerung gedanke ranke völker allein rationaler umsicht bestimmen all starken gefühlen soen landsleute osten dankbar lang entbehrte freiheit wissen riesig transferleistungen wohl würdigen spüren gut wirkung partnerschaft gemeinde verbänden persönlich einsatzes zahlreich selbstloser helfer ratgeber gleichwohl vieles fremd markt unentbehrlich versorgung gütern dienstleistungen bewähren verkennt ja niemand allzu zugang markt suchen nämlich beschäftigung zumal frauen oft hören früher gleich all arbeit darinen äussert durchaus sehnsucht neu unfreiheit all respekt wettbewerb hoffen menschen marktwirtschaft arbeitslosen sozial auffangen kraft aufbringen arbeitssuchenden solidarisch weiterzuhelfen gehen mehr materiell sorgen wettbewerb gewinn mass dinge wert preis hüten vergangenheit pauschal dämonisieren nachträglich umzuschreiben menschen barbarisch zwang kollektivismus wahrlich genug gelitten dabeien brauchen ständig einreden lassen deshalb persönlich bisher verloren leben gehabt heuen suchen gerechtigkeit nachbarschaft verbindung solidarität sicherheit wer ernst nehmen arbeitsmarkt verstärken wechselseitiges verständnis einigungsprozess menschen weste sorgen lernen prosperität wirtschaft bewährung sozialstaates gewohnt lebensumstände kräfte marktes durchsetzen abbau handelsschranken europa weltweit wirken belebend zuge steigender produktivität wachsen jedoch schon hochkonjunktur arbeitslosigkeit heran gross kraftprobe sozialstaat gesellschaftlich erschütterung abgewehrt angesichts schwer zusätzlich lasten einheit tragfähigkeit wahrhaft eindrucksvoll all beteiligten hoh mass flexibilität abgefordert kraft innovation überwindung hemmend denkens besitzständen aufgaben arbeitsmarkt bisher lösen unserer gross gemeinsam herausforderungen damen herren besser bestehen je mehr humane voraussetzungen sorgen kultur weitesten sinne wortes kultur beziehungen menschen mitmenschen menschen natur menschen zukunft markt herrschen wettbewerb leistung kultur gehören zuwendung starken schwachen vertikale sozial verpflichtung staates hilfe horizontal solidarität bürger untereinander beispiel gewaltig gewachsen bedeutung verhältnis einheimisch zugewanderten jahrhunderte deutschland überwiegend auswanderungsland heute weit mehr menschen hinein heraus derart verändern lage menschlich einstellung staatlich rahmen finden brauchen zeit konsensfähigen lösungen suchen mehrheit bevölkerung verstehen mittragen öffentlich diskussion zweck gesellschaftlich wirklichkeit verstecken wer stichwort einwanderungspolitik tabuisieren ausländerfeindlich ausschreitungen befürchten stellt zusammenhänge kopf sozial konflikte ursache weit eher verschweigen verzögern fälliger politisch zielvorgaben gefolge brauch neu regelungen einwanderung staatsangehörigkeit natürlich tore wanderer all welt unbegrenzt öffnen zuwanderung gemäss interessen verpflichtungen landes steuern dannen einwanderung sinnvoll vorsorge zukunft wer weise einwanderer einstellt mehr eindringling fürchtet ländern europäisch union stellen ähnliche aufgaben gemeinsame lösungen anzustreben nötig vorwand national handlungsspielraum vernachlässigen nachholbedarf jüngster zeit überall deutschland schändlich gewalttaten leib leben nichtdeutsch erleben einzeltaten zentral planung jedoch anstiftung entstammen überwiegend rechtsextremistisch erzeugten klima parole aufmärsch pamphleten symbolen speist mögen niemand zufallslaunen neulich unvorhersehbaren spontanen jagd ausländer sprechen erst späteren tages fragen kommen tages immer heute ordnungskräfte staates ebenso mitbürger dürfen fremd unglück gewöhnen wozu schon täglich fernsehbilder verleiten wegsehen unmenschlichesen eigen gesichtskreis schiehen wer wegduckt akzeptieren ende herrschaft gewalt wer traut freiheit einzutreten schwarzfahrer unserer freiheitlich demokratie höhlt dürfen zweit widerruf zusammenlebens dulden pass lebensgewohnheiten behindern obdachlos daran ansehens ausland willen denken wichtig eigen spiegel aussehen mussen darin ganz überwiegende mehrheit unserer bevölkerung völlig jed menschen unantastbar kern unserer eigen freiheit schutz lohnen jed zivile courage grösst tugend demokratisch bürgergesellschaft überdies best versicherung geben ermutigend zeichen kultur zusammenlebens fremden neulich stiess kulturverein stendal nördlich sachsen-anhalt laienspielschar jung leuten führen ballett schwarzafrikaner hauptrolle ganz stadt lernt achtung freude wesen bewegung hause fremden dennoch packend kultur karlsruhe kommen unlängst schüler theaterstück zusammenleben ausländern selb schreiben umgebung aufführen resonanz stark soen kunst human kraft stelle mögen haushälter finanzverantwortlichen regierungschefs bund ländern kommune bitte erlauben folgen ruhig stimme herzens begegnen zeiten dringenden spargebots kulturell künstlerisch zelle zentren lande lobby schwach verständnis chöre orchester bühnen sammlungen ausstellungen initiativen all art gehören nämlich vorbildern kosten-nutzen-relation kosten klein fast all haushaltstitel wirkung abe gehen tief tun ganz gesellschaft wohl schöner sparen ende geld gutes zusammenleben entspannung menschen hilfe kultur fördern anstatt folgekosten sozialem unfrieden trag kultur eben entbehrlicher zierat humane lebensweise bürger jed gesellschaft gehören beziehung generation säulen kultur tragen genug schon demographisch zahlen alarmieren hundert jahren stehen zehn jugendliche einundzwanzig jahren alten fünfundsechzig jahren gegenüber wenig jahren jahr 2000 beid gruppen etwa gleich gross schwerwiegend folgen bleiben lasten jungen steigen immer mehr sowohl eigen kinder all wegen versorgung alten stehen anfang aufstandes jungen alten jedenfalls wächst neu denken innerhalb altersgruppen heran verhalten zueinander verändern jungen normal eigen erfahrungen dabei merken früher später niemand ganz vorne anfangen interesse all erfahrungswissen verlorengehen lassen kontinuität generation wahren achten gerade jungen hilfe alten ebenfalls grund neuem denken sollten lebenslang dazulernen bilden erziehen leider eindruck zeit ganz allgemein fragen bildung erziehung merkwürdig ruhig lande verantwortlich bildungspolitiker ringen energisch reformschritte nehm gross politik öffentlichkeit davonen selten ernsthaft notiz obwohl mindestens wissen bildungswesen landes zentral standortfaktoren liberalisierten weltwirtschaft gehören rein effizienz hinaus hängen qualität bildung all werten zielen zusammenleben menschen ab bildung kommen mut erziehung mut erziehung bedeuten wandel zeitbedingungen zunächst mut veränderung eigen lebens zumal alter wichtigst thema dafüren umwelt all feldern endlichkeit lebensvoraussetzungen sichtbar heuen luft wasser energie artenvielfalt verkommen lassen verschwenden nachkommen fehlen bessere aufgabe gäbe eigen genügsamkeit gemeinsam verantwortung natürlichen ressourcen kontinuität generation geben heutig leben unaufhörlich zukunft verbrauchen ökologisch pflicht gelten weltweit fangen immer hause umweltschutz parteilichen allgemeinguen wartet staatsziel überführung praxis allgemeinheit kosten tragen wann immer privat markt extern folgen verursachen preis enthalten ehrlicher gesamtgesellschaftlich ökonomisch preise ökologisch wahrheit sagen ökologisch notwenig markt behaupten deshalb führen beispiel nennen letztlich daranen vorbei umweltschädlich produkte fossile brennstoff höh belasten europäisch union entsprechend einigung co2- energie-bereich hinzuarbeiten gross aufgaben deutsch welt verbinden nation teil grösser wichtigeren gemeinschaft menschheit nehmen sorgen bewusstsein teil völker weit mehr leiden konkret feld aussenpolitik eingehen sicherheit zusammenarbeit teil welt verbesserung entwicklungsbedingungen südlich halbkugel frage frau präsidentin erlauben sprechen deutsch nation wohin zielen verwunderlich kalten krieges davonen weniger rede wohl politisch einheit friede welt erreichen augen nachbar ferner länder gerichtet europäisch massstäben gross manch nachbar beunruhigend gross horcht empfindsam tonlage verfolgen angespanntem interesse vorhaben achtzig millionen einwohnern meiden europa geistig materiell ressourcen einsetzen all menschlich temperatur hause entwickeln wahn nationalismus europa suchen vorteil eigenen nachteil nation erdteil boden werfen right or wrong my country absage zivilisation erwies unserer zeit neu historisch hoch bedeutsam kapitel beginnen zusammenschluss europa hören sowenig nachbar nation verfügen ebene nationalstaat demokratie garantieren nation abstrakt begriff allemal feststehen vielmehr willen bürger prägen charakter bewahren verändern allein religion rasse hautfarbe ethnisch wurzeln sprache nation bilden gewiss geographisch lage landes starkes gewicht streben sicherheit menschen zusammenhält prägend ferner politisch interessen klar erkennen offen ehrlich beim namen nennen einzugestehen verheimlich obwohl existieren allseits misstrauen wecken wahren kern nation abe bilden vielmehr jed unsrige geistig lebewesen jed leben lang zeit gegenwart heranwächst bedeutungsschwere geschichte gegenwärtig willen zusammenleben geschichte gedächtnis beschweren geist erleuchten lessing sagt erinnern gross kraft ganz erbe vergangenheit anzunehmen gut schwer kapitel worten gross französisch religionshistorikers ernest renan ruhm reue gemeinsam verantwortlich tragen nation prägen wille gegenwart bereitschaft aufgaben unserer zeit stellen gehen generation miteinander geben jugend nötigen chancen steigend lasten zukunft tragen verstehen international wettbewerbsfähigkeit arbeitsmarkt wichtig marginal zuwächse innergesellschaftlich verteilungskämpfen verhalt einheimische zuwanderer zueinand off nachbar vermögen eigenen achten schätzen fremde fürchten brauchen beglaubigen stärken tragen all wählende bürger gewählt politiker zivilcourage spürbar stärken politik ansehen gewinnt bewusst kultur quelle unserer humanität fundament unserer zukunft energisch fördern allseits praktizieren gelten schliesslich all bewahren anvertraut natur nachkommen vertrauen bilden vertrauen vertrauen bewusstsein reichtum last geschichte fest verantwortlich lebenswillen gegenwart nation unterwegs europa glied gemeinschaft völker setze darauf zuversicht damen herren frau präsidentin amtszeit beenden stafette übergeben glücklich überstanden danke gemeinsam zeit damen herren satz mussen hinzufügen innehaben dürfen weiterhin laut lichtenberg frei sitz stimme rat irrtum wahrheit jen rat unserer demokratie jung alt amt zusammen angehören wohl landes bekennen menschen behinderungen leb zusammen fredi saal schreiben biographie titel warum jemand schluss sagen jedenfalls fühlen spastiker schöpfung gottes wer wort liest vergessen herausforderung jed menschen behinderung normal verschieden geben norm menschsein menschen blind taub lernschwierigkeiten geistig körperlichen behinderung geben menschen humor ewig pessimisten unsozialten sogar gewalttätige männer frauen behinderung verschiedenheit aufgefasst ziel gehen wirklichkeit freilich behinderung art verschiedenheit benachteiligen ja bestrafen schwere notwendig gemeinsam aufgabe all benachteiligung überwinden massstäbe behinderung zufällig fragwürdig immer gehen forderungen unserer sogenannt leistungsgesellschaft all rational motorisch fähigkeiten leistungskraft produktionsprozess wär soziales verhalten beispielgebende massstab dannen müssten menschen down-syndrom nacheifern gemessen sensibilität taubblinde haut wahrnehmen sehende hörende behindern vielleichen rollstuhlfahrer professor lachen weinen menschsein behindern einschätzen sollt menschen definiert handicap fragen behindern verstehen jedenfalls darf allgemein behinderten sprechen ja ganz menschen treffen wahrheit teilbereich einzeln fähigkeiten eingeschränkt jed verkehrsunfall herzinfarkt überhöhten zucker alkohol zigarettenkonsum stress alter geburt kindes lauf lebens behinderung erleiden behinderung niemand versichern etwa jed zehnte deutschland schw schwerstbehindert randgruppe behinderung schwere last erleichtern lassen lingen lernen verschiedenheit einstellen reaktion behinderung bestimmen ganz wesentlich subjektiv empfinden anderern wissen gar behindern sagen manch betreffen angesichts reaktion nichtbehinderten lage menschen behinderung erleichtern nichtbehinderte wahrnehmung korrigieren humanes zusammenleben integration brauchen zuerst all raum köpfen herz menschen einfach delegieren architekten städteplaner kindergärtner schulleiter bauherren rahmen zusammenleben menschen behinderung schaffen tatsächlich begegnen hängt allein davon ab beispiel rollstuhlfahrer uhrzeit fragen statt betreuer dreissigjährig spastiker statt anreden erklären begleiter gegenüber tun weitestmöglich einbeziehung leben menschen all arten behinderungen familien schuldig schulden selbstverständlichkeit weder besonder dank ständiges wohlverhalten genauso nichtbehinderte recht verzweiflung empfinden enttäuschung ärger deutlich äussern integration erst erreichen freude dankbarkeit kummer sorgen unabhängig davon ausdrücken gesprächspartn menschen behinderung kindergärten schulen denen nichtbehinderte behindert kinder möglichst normal umgang miteinander lernen wichtig helfen wenig später betriebe obwohl behindert mitarbeiter einstellen liebern gering ausgleichsabgabe bezahlen lassen deshalb arbeitgeber pflicht nehmen künstler all kino fernsehfilmen plakaten konzerten menschen erreichen geben gut schlecht beispiele filmemacher auffordern fühlen ab problemfilm einzelnen blind taub autistisch menschen behinderung genauso nichtbehinderte all drehbücher film aufzunehmen alltag zusammenleben etwa vier prozent menschen schwer schwerster behinderung gebären 96 prozent dagegen begegnen behinderung erst laufe lebens stellen heuen lebensrecht kindern frage schwerem handicap gebären kosten-nutzen-rechnungen diffamieren gar eltern wegen entscheidung blind taubes geistig behindertes kind welt bringen verstoss achtung menschen geben immer bösartige wirklichkeit verzerrend stimmungsmache klein gruppe schutzbedürftiger mitmensch deutsch strassen sehen rollstühle wer denken tempolimit verkehrsberuhigt wohngebiete hoh alkohol tabakkonsum kämpfen sicherheit arbeitsplatz umweltschutz fordern immer mehr menschen rollstuhl zwingen behinderungen wirksam vorbeugen sinnvoll notwendig wer publizistisch lebensrecht menschen angeborener behinderung zweifel ziehen verletzen menschen mecklenburg-vorpommern sachsen-anhalt schutz gleichstellung menschen behinderung ausdrücklich landesverfassungen aufnehmen artikel 1 grundgesetzes verbrieften schutz menschenwürde schutzfähig satz verfassung tun jed beitragen wachsamkeit zivilcourage solidarität verwirklichen betroffenen existentielle bedrohung empfunden diskussion lebensrecht gewiss zwiespältige wissenschaftlich früherkennung negatives licht geraten gentechnik irgendwann vererbbaren krankheiten entgegenzutreten vermögen menschen sehkraft erhalten fortschritt betroffenen vorenthalten dürfen pränatale diagnostik leben einfacher schwieriger fakten mitteilen mehr wer hören begeben entscheidungssituation moralisch ethisch höchste anforderungen stellen besitzen immer schon notwendig reife denen entgegenzustellen wissenschaft dazuen missbrauchen normvorstellungen entwickeln normvorstellungen denen bestimmen körperlichen geistig beeinträchtigungen schlechthin menschlich unzumutbar bezeichnen frida kahlo heln keller stephen hawking thomas quasthoff führen bewundernswert erfüllt leben schwer schwersten behinderungen schrecklich zeitgeist schon beriff post-human spielt hamburger ausstellung geschehen gefährdet integration menschen behinderung verführt immer mehr männer frauen glauben aussehen jemand bestimmt medien vermitteltes idealkörperbild erreichen unterziehen ungesunden diäten übertriebenem sport sogaren kosmetisch chirurgie leisten indireken intoleranz gegenüber menschen behinderung massiv vorschub umgeben männern frauen chirurgisch manufakturen künstlich einheitlich körperbild anstreben mögen dürfen stimmung gesellschaft kommen beeinträchtigung berufen dürfen urlaub nahe menschen behinderung unterbringen siehen folgenschwer menschen abwege führende flensburger urteil denken stefanie seefelder jung schw contergangeschädigte frau all tief eindruck wieviel reife selbstbewusste jung bankkauffrau altersgenossinnen voraus glauben nase korrigieren lippe vergrössern lass britta siegers kind unfall beid bein amputiert paralympics medaille erschwamm goldene kamera erhalten trotz leistungssport 27 jahren promoviert gerade kennengelernt wer glück freude planen normieren geben koordinaten glück mensch glücklich leben ganz verläuft eltern planen glück empfind fähigkeit menschen behinderung verbinden deshalb sollten davor hüten begriff glücks humanität verlieren produkt äusserlicher bedingungen geld jugend sonne freizeit missverstanden männer frauen sehkraft rollstuhl gleich wünsch empfindung erinnern bilder behindert künstlern freude freundschaft hoffnung mut verliebtsein liebe wandteppich jane francis cameron frau down-syndrom denken lebensfreude strahlend dicke frau freigiebig fragend ungewiss hoffend gross herz dünnen bedürftigen mann hinüberschickt dess herz ganz klein fest verankert menschen behinderung gleich freude erleben gleich freude bereiten gedanke empfindung erfahren oft besonders bildern vielleicht freizeit malen beispiel freude schenken michael rahnfeld werkstatt stetten drei könig gemalt zehn geschenken gar tragen bild erfüllen betrachter freude dankbarkeit immern malen menschen produkte schaffen wegzuwerfen individualität behindert künstler erleben weit künstlerisch fähigkeiten hinausgehendes verbindendes erlebnis menschen behinderungen möglichkeit schöpferisch auszudrücken gerade jemand beispiel sprachlich probleme brauchen wege gefühle mitzuteilen menschen gemässe sprache vorzuenthalten grausam isolationshaft menschen achten heeissen deshalb kreativität menschen behinderung gut irgend möglich fördern beiderseitiger austausch nötig menschen integration anstreben verlieren angst eigen behinderung abschiebung abseits stellen fest menschen behinderung oft gleich ziele behindertenorganisationen sollten stärk politisch leben integrieren konkret bedürfnislage betroffenen fachleuten neu wege suchen geht hilfe menschen behinderung liegen ja quelle humane reformen allgemein all zugute kommen abwechslungsreich kindlich bedürfnissen orientiert didaktik sonderschulen befruchtet beispiel schultypen grundschule all behindertengerecht menschengerecht gelten schule strassenverkehr innenstadt ökologie umweltschutz selbsthilfegruppen asthmakranken familien kinder leukämie pseudokrupp leiden allergiker ziehen gleich strang bürgerinitiativen schadstoffe chemie industrieanlagen oberirdisch hochspannungsleitungen ökologisch landwirtschaft gesund ernährung kämpfen initiativen beruhigte wohngebiete finden engagiert mitstreiter behindertenverbänden damien rollstuhlfahrer blinde spastiker ungefährdeter bisher bewegen vermeidung behinderungen grösstmöglich freiheit mobile dienste etwaten fordern gemeinsam alt menschen kranken aids-hilfe anhänger bürgergesellschaft selbsthilfegruppen verbänden gleichgesinnte gedanke praktisch umsetzen allerglaubwürdigste weise instrument teilabkommens teilweis übereinstimmung bundesarbeitsgemeinschaft hilfe behinderte betroffene kerngruppe alleinen entscheiden verband entschluss toleriert gemeinsam akzeptieren vertritt interessant dritt variante demokratisch zusammenlebens neben mehrheits konsensbeschluss kreativität aktivität selbsthilfegruppen verbinden allgemein fördern gelten zumal östlich bundesländer denen früher ja eher verbot inzwischen gegründeten selbsthilfegruppen informieren koordinieren hilfe ermutigen unterstützen eigeninitiative familienangehörigen bleibt wesentlich kämpferisch engagement wärme kompetenz betroffenen nahen angehörigen pflegeversicherung bezahlt fachleute ärzte pfleger ersetzen menschen behinderung gefordert abkehr fürsorglich belagerung stationären versorgung alltäglich bedürfnissen orientiert ambulanten betreuung individuell freiheit selbständigkeit möglich anbietet nie ganz hilfe familienangehörigen kollegen nachbar auskommen selbsthilfekontaktstellen aufbau solch netzes notwendig alt bundesländer abordnung fachleuten wesentlich hilfe leisten demokratiebewegung 1989 menschen behinderung hoffnungen setzen dürfen enttäuscht beides tun menschen handicaps selbstbewusstsein teilnahme mitsprachemöglichkeiten stärken gleichzeitig eigen interesse verantwortungsgefühl weshalb mögen heuen wenig jung menschen sozial berufe ergreifen stehen mensch mehr mittelpunkt denkens betreuungsnotstand drohen ausfall zivildienstleistender einsatz grossartig gross entfremdung nichtbehinderten menschen behinderung derzeit zeigen vielleicht erschreckendsten gewalttaten weshalb versagen schutz weshalb versagen oft menschen behinderung diskriminiert angreifen dürfen dahin kommen menschen behinderung ohnehin nachteil angst verstecken abends mehr öffentlich leben teilnehmen stellen versetzen hinein hilflosigkeit ausweglose angst blinden menschen geistig körperlichern behinderung bedroht angreifen gewalt behindert menschen verabscheuungswürdig bestrafen wirksam begegnen integration aufklärung fordern all zunächst jed einzeln prüfen ausschreitungen ausländisch mitbürger erkennbar jugendliche manchmal denken erwachsenen radikalisieren gewalt vertreten solch mitverantwortlichkeit scheinbar unbeteiligter verbrechen weniger klagen gesellschaft behindertenfeindlichkeit problem sozialarbeitern gerichten jugendgefängnissen all jed einzeln bewusst unbewusst klima beitragen greifen überwinden besonder bedeutung dabei arbeit medien oft schon menschen behinderung schutzschild wachsamkeit solidarität dürfen keinesfalls vermindern verlieren davor warnen menschen behinderung opfer gewalt opfern schlagzeilen sensationsberichten wort bilder bestimmen denken manchmal geben hoffnung entscheidend helfen lernen lernen schw einfach klar normal verschieden'"
      ]
     },
     "execution_count": 9,
     "metadata": {},
     "output_type": "execute_result"
    }
   ],
   "source": [
    "documents_preprocessed[0]"
   ]
  },
  {
   "cell_type": "code",
   "execution_count": 31,
   "metadata": {},
   "outputs": [],
   "source": [
    "tfidf_vectorizer = TfidfVectorizer(max_df=0.8,\n",
    "                                   min_df=5)\n",
    "tfidf = tfidf_vectorizer.fit_transform(documents_preprocessed)\n",
    "tfidf_feature_names = tfidf_vectorizer.get_feature_names()"
   ]
  },
  {
   "cell_type": "code",
   "execution_count": 40,
   "metadata": {},
   "outputs": [
    {
     "name": "stdout",
     "output_type": "stream",
     "text": [
      "NMF doc-topic shape: (1439, 15)\n"
     ]
    }
   ],
   "source": [
    "n_topics = 15\n",
    "nmf = NMF(n_topics)\n",
    "nmf_doc_topic = nmf.fit_transform(tfidf)\n",
    "print(\"NMF doc-topic shape:\", nmf_doc_topic.shape)"
   ]
  },
  {
   "cell_type": "code",
   "execution_count": 33,
   "metadata": {
    "collapsed": true
   },
   "outputs": [],
   "source": [
    "tf_vectorizer = CountVectorizer(max_df=0.8,\n",
    "                                min_df=5)\n",
    "tf = tf_vectorizer.fit_transform(documents_preprocessed)\n",
    "tf_feature_names = tf_vectorizer.get_feature_names()"
   ]
  },
  {
   "cell_type": "code",
   "execution_count": 41,
   "metadata": {},
   "outputs": [
    {
     "name": "stderr",
     "output_type": "stream",
     "text": [
      "C:\\ProgramData\\Anaconda3\\lib\\site-packages\\sklearn\\decomposition\\online_lda.py:508: DeprecationWarning: The default value for 'learning_method' will be changed from 'online' to 'batch' in the release 0.20. This warning was introduced in 0.18.\n",
      "  DeprecationWarning)\n"
     ]
    },
    {
     "name": "stdout",
     "output_type": "stream",
     "text": [
      "LDA doc-topic shape: (1439, 15)\n"
     ]
    }
   ],
   "source": [
    "lda = LatentDirichletAllocation(n_topics)\n",
    "lda_doc_topic = lda.fit_transform(tf)\n",
    "print(\"LDA doc-topic shape:\", lda_doc_topic.shape)"
   ]
  },
  {
   "cell_type": "code",
   "execution_count": 42,
   "metadata": {},
   "outputs": [
    {
     "name": "stdout",
     "output_type": "stream",
     "text": [
      "\n",
      "NMF top terms:\n",
      "Topic 0:\n",
      "kirche, christ, kirchen, evangelisch, christlich, welt, kirchentag, glauben, leben, religion\n",
      "Topic 1:\n",
      "europäisch, europa, union, europas, gemeinsam, verfassung, mitgliedstaaten, national, europäer, mitgliedsstaaten\n",
      "Topic 2:\n",
      "unternehmen, sozial, neu, wirtschaft, brauchen, gewerkschaft, arbeitsplätze, wirtschaftlich, globalisierung, prozent\n",
      "Topic 3:\n",
      "afrika, afrikanisch, afrikas, köhler, partnerschaft, kontinent, afrikaner, armut, horst, korruption\n",
      "Topic 4:\n",
      "sport, fussball, lieb, herzlich, frau, herr, lorbeerblatt, engagement, ehrenamtlich, sportlich\n",
      "Topic 5:\n",
      "schulen, kinder, schule, bildung, lehrer, schüler, eltern, jung, lernen, brauchen\n",
      "Topic 6:\n",
      "polen, polnisch, nachbar, polens, gemeinsam, europa, deutschen, geschichte, warschau, nachbarschaft\n",
      "Topic 7:\n",
      "wissenschaft, forschung, wissenschaftlich, hochschulen, wissenschaftler, akademie, universität, gesellschaft, universitäten, wissenschaftsrat\n",
      "Topic 8:\n",
      "jüdisch, jude, israel, spiegel, israelisch, gemeinde, paul, leben, erinnerung, zentralrat\n",
      "Topic 9:\n",
      "präsident, beziehungen, russland, zusammenarbeit, land, mexiko, gemeinsam, nation, vereinten, beid\n",
      "Topic 10:\n",
      "bundeswehr, soldat, soldatinnen, militärisch, streitkräfte, einsatz, dienst, nato, wehrpflicht, afghanistan\n",
      "Topic 11:\n",
      "ddr, freiheit, sed, geschichte, einheit, diktatur, mauer, 17, opfer, juni\n",
      "Topic 12:\n",
      "japan, japanisch, asien, japans, china, freundschaft, korea, asiatisch, beziehungen, tokio\n",
      "Topic 13:\n",
      "kunst, kultur, theater, musik, literatur, kulturell, sprache, geschichte, museum, neu\n",
      "Topic 14:\n",
      "demokratie, politisch, parteien, bürger, demokratisch, politik, stiftungen, entscheidungen, staat, bürgerinnen\n",
      "\n",
      "LDA top terms:\n",
      "Topic 0:\n",
      "bundeswehr, soldat, militärisch, einsatz, sicherheit, soldatinnen, nato, dienst, afghanistan, streitkräfte\n",
      "Topic 1:\n",
      "roma, sinti, nationalsozialistisch, verfolgung, völkermord, häftlinge, 1944, diskriminierung, unfassbar, vorurteilen\n",
      "Topic 2:\n",
      "neu, europäisch, schon, europa, welt, unserer, politisch, eigen, zukunft, mussen\n",
      "Topic 3:\n",
      "europäisch, europa, gemeinsam, union, politisch, europas, beid, welt, staaten, beziehungen\n",
      "Topic 4:\n",
      "mussen, neu, sagen, schon, gesellschaft, gehen, eigen, ja, sozial, jahren\n",
      "Topic 5:\n",
      "sport, orden, olympisch, heuss, sportlich, spiele, behinderung, ordens, sports, theodor\n",
      "Topic 6:\n",
      "kultur, sagen, neu, land, erst, schon, kommen, jahren, leben, zeit\n",
      "Topic 7:\n",
      "neu, schon, mussen, unserer, gehen, gesellschaft, ja, sagen, welt, europäisch\n",
      "Topic 8:\n",
      "europäisch, unserer, gemeinsam, zukunft, neu, schon, erst, politisch, kommen, lassen\n",
      "Topic 9:\n",
      "politisch, neu, mussen, europa, jed, unserer, schon, zeit, gesellschaft, eigen\n",
      "Topic 10:\n",
      "reinhold, ebert, schneider, friedrich, heidelberg, bruder, repräsentant, arbeiterschaft, wussen, republikanisch\n",
      "Topic 11:\n",
      "leben, jed, sagen, neu, gesellschaft, gehen, politisch, eigen, tun, zeit\n",
      "Topic 12:\n",
      "neu, welt, unternehmen, afrika, brauchen, schon, wirtschaft, international, sozial, wichtig\n",
      "Topic 13:\n",
      "venezuela, simon, neu, lateinamerikanisch, unserer, schon, politisch, gesellschaft, mussen, wirtschaftlich\n",
      "Topic 14:\n",
      "bundesverfassungsgericht, gericht, richter, bundesverfassungsgerichts, entscheidungen, juristen, gesetzgeber, recht, juristisch, rechtlich\n"
     ]
    }
   ],
   "source": [
    "no_top_words = 10\n",
    "print('\\nNMF top terms:')\n",
    "display_topics(nmf, tfidf_feature_names, no_top_words)\n",
    "print('\\nLDA top terms:')\n",
    "display_topics(lda, tf_feature_names, no_top_words)"
   ]
  }
 ],
 "metadata": {
  "kernelspec": {
   "display_name": "Python 3",
   "language": "python",
   "name": "python3"
  },
  "language_info": {
   "codemirror_mode": {
    "name": "ipython",
    "version": 3
   },
   "file_extension": ".py",
   "mimetype": "text/x-python",
   "name": "python",
   "nbconvert_exporter": "python",
   "pygments_lexer": "ipython3",
   "version": "3.6.1"
  }
 },
 "nbformat": 4,
 "nbformat_minor": 1
}
